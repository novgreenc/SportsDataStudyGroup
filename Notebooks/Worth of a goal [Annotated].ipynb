{
 "cells": [
  {
   "cell_type": "markdown",
   "metadata": {},
   "source": [
    "# Worth of a Goal\n",
    "## Upgrading the golden boot to platinum boot!\n",
    "Analyst/Author: Christian Kotitschke\n",
    "\n",
    "### Hypothesis\n",
    "*Strikers who score the key goals, the ones that can be directly translated into more wins and more points, are worth rather more than the flat-track bullies who appear to rub salt into wounds, scoring the third and fourth goals as victory turns into a drubbing. Simply counting strikes can be deceiving: one goal is not the same as another.*\n",
    "\n",
    "from The Numbers Game - Why everything you know about soccer is wrong!\n",
    "\n",
    "### The Bullies\n",
    "\n",
    "All of them are prolific strikers in their own right. World class. But when it rains, it pours, and these guys tend to pile on and score more and more goals.\n",
    "\n",
    "### The worthy!\n",
    "\n",
    "Maybe not as flashy or not that often talked about, these strikers quietly score the important goals more than others, sometimes on the lower level teams that need it the most. They are true value for their money.\n",
    "\n",
    "### Approach\n",
    "Fill in content\n",
    "\n",
    "### Some Setup code\n"
   ]
  },
  {
   "cell_type": "code",
   "execution_count": 2,
   "metadata": {},
   "outputs": [],
   "source": [
    "import pandas as pd\n",
    "import numpy as np\n",
    "import seaborn as sns\n",
    "import matplotlib.pyplot as plt"
   ]
  },
  {
   "cell_type": "markdown",
   "metadata": {},
   "source": [
    "### Grabbing the right set of data\n",
    "Comment in or out the sets of data you want to run teh analysis over:\n",
    "- Premier League 2018-2019 data\n",
    "- Bundesliga 2018-2019 data\n",
    "- MLS 2019 data\n",
    "\n",
    "*Note: All data is has been curated from https://footystats.org/api/ through a valid subscription.*"
   ]
  },
  {
   "cell_type": "code",
   "execution_count": 3,
   "metadata": {},
   "outputs": [],
   "source": [
    "player_goals = pd.read_csv('Data/PlayerGoals_MLS2019.csv')\n",
    "\n",
    "# player_goals = pd.read_csv('Data/PlayerGoals_PL2018_19.csv')\n",
    "# player_goals = pd.read_csv('Data/PlayerGoals_BL2018_19.csv')\n",
    "\n",
    "# player_goals = pd.read_csv('Data/PlayerGoals_Ecuador_SerieA.csv')\n",
    "# player_goals = pd.read_csv('Data/PlayerGoals_Uruguay_Primera19.csv')"
   ]
  },
  {
   "cell_type": "markdown",
   "metadata": {},
   "source": [
    "### Further massaging the data\n",
    "- Definining goal value calculation function\n",
    "- Defining value coloring function\n",
    "- Defining some table property styles\n",
    "- Adding goal value column\n",
    "- Adding column for simple goal value (1 per goal)\n",
    "\n"
   ]
  },
  {
   "cell_type": "code",
   "execution_count": 4,
   "metadata": {},
   "outputs": [],
   "source": [
    "from operator import truediv\n",
    "\n",
    "def calculate_goal_value(go_ahead_goal, game_winning_goal, tying_goal, game_tying_goal, only_goal, only_goal_team, away_goal, previous_score_home, previous_score_away):\n",
    "  value = 1\n",
    "  if game_winning_goal:\n",
    "    value = value *2\n",
    "  if game_tying_goal:\n",
    "    value = value *1.5    \n",
    "  if go_ahead_goal:\n",
    "    value = value + 0.2\n",
    "  if tying_goal:\n",
    "    value = value + 0.1\n",
    "  if only_goal:\n",
    "    value = value + 0.5\n",
    "  if only_goal_team:\n",
    "    value = value + 0.3\n",
    "  if away_goal:\n",
    "    value = value + 0.2\n",
    "  if ((previous_score_home > previous_score_away) and away_goal == False):\n",
    "    value = truediv(value,(previous_score_home - previous_score_away) + 1)\n",
    "  if ((previous_score_home < previous_score_away) and away_goal == True):\n",
    "    value = truediv(value, (previous_score_away - previous_score_home) + 1)\n",
    "  return value\n",
    "\n",
    "def color_lt0_red_gt0_green(value):\n",
    "  if value > 0:\n",
    "    color = 'green'\n",
    "  elif value < 0:\n",
    "    color = 'red'\n",
    "  else:\n",
    "    color = 'black'\n",
    "\n",
    "  return 'color: %s' % color\n",
    "\n",
    "# Set CSS properties for th elements in dataframe\n",
    "th_props = [\n",
    "  ('font-size', '10px'),\n",
    "  ('text-align', 'center'),\n",
    "  ('font-weight', 'bold'),\n",
    "  ('color', '#6d6d6d'),\n",
    "  ('background-color', '#f7f7f9')\n",
    "  ]\n",
    "\n",
    "# Set CSS properties for td elements in dataframe\n",
    "td_props = [\n",
    "  ('font-size', '10px')\n",
    "  ]\n",
    "\n",
    "# Set table styles\n",
    "styles = [\n",
    "  dict(selector=\"th\", props=th_props),\n",
    "  dict(selector=\"td\", props=td_props)\n",
    "  ]\n",
    "\n",
    "# Set colormap equal to seaborns light green color palette\n",
    "cm_green = sns.light_palette(\"green\", as_cmap=True)\n",
    "\n",
    "# Set colormap equal to seaborns light green color palette\n",
    "cm_red = sns.light_palette(\"red\", as_cmap=True)"
   ]
  },
  {
   "cell_type": "code",
   "execution_count": 5,
   "metadata": {},
   "outputs": [
    {
     "name": "stderr",
     "output_type": "stream",
     "text": [
      "C:\\Users\\novgr\\Miniconda3\\lib\\site-packages\\ipykernel_launcher.py:6: SettingWithCopyWarning: \n",
      "A value is trying to be set on a copy of a slice from a DataFrame.\n",
      "Try using .loc[row_indexer,col_indexer] = value instead\n",
      "\n",
      "See the caveats in the documentation: http://pandas.pydata.org/pandas-docs/stable/user_guide/indexing.html#returning-a-view-versus-a-copy\n",
      "  \n"
     ]
    }
   ],
   "source": [
    "player_goals['goal_value'] = player_goals[['go_ahead_goal', 'game_winning_goal', 'tying_goal', 'game_tying_goal', 'only_goal', 'only_goal_team', 'away_goal', 'previous_score_home', 'previous_score_away']].apply(lambda x: calculate_goal_value(x['go_ahead_goal'], x['game_winning_goal'], x['tying_goal'], x['game_tying_goal'], x['only_goal'], x['only_goal_team'], x['away_goal'], x['previous_score_home'], x['previous_score_away']),axis=1)\n",
    "player_goals['simple_goal_value'] = 1\n",
    "player_goals_outcomes = player_goals.groupby(['player_id', 'player_name', 'team_name','team_final_table_position'], as_index=False).agg({'goal_value':'sum','simple_goal_value':'sum'})\n",
    "player_goals_outcomes_present_full = player_goals_outcomes[['player_name', 'team_name', 'team_final_table_position', 'simple_goal_value', 'goal_value']]\n",
    "player_goals_outcomes_present = player_goals_outcomes[['player_name', 'team_name', 'simple_goal_value', 'goal_value']]\n",
    "player_goals_outcomes_present['gain'] = player_goals_outcomes_present['goal_value']-player_goals_outcomes['simple_goal_value']"
   ]
  },
  {
   "cell_type": "code",
   "execution_count": 6,
   "metadata": {},
   "outputs": [
    {
     "data": {
      "text/html": [
       "<div>\n",
       "<style scoped>\n",
       "    .dataframe tbody tr th:only-of-type {\n",
       "        vertical-align: middle;\n",
       "    }\n",
       "\n",
       "    .dataframe tbody tr th {\n",
       "        vertical-align: top;\n",
       "    }\n",
       "\n",
       "    .dataframe thead th {\n",
       "        text-align: right;\n",
       "    }\n",
       "</style>\n",
       "<table border=\"1\" class=\"dataframe\">\n",
       "  <thead>\n",
       "    <tr style=\"text-align: right;\">\n",
       "      <th></th>\n",
       "      <th>player_name</th>\n",
       "      <th>team_name</th>\n",
       "      <th>simple_goal_value</th>\n",
       "      <th>goal_value</th>\n",
       "      <th>gain</th>\n",
       "    </tr>\n",
       "  </thead>\n",
       "  <tbody>\n",
       "    <tr>\n",
       "      <th>0</th>\n",
       "      <td>Kemar Lawrence</td>\n",
       "      <td>New York Red Bulls</td>\n",
       "      <td>1</td>\n",
       "      <td>0.500000</td>\n",
       "      <td>-0.500000</td>\n",
       "    </tr>\n",
       "    <tr>\n",
       "      <th>1</th>\n",
       "      <td>Sacha Klještan</td>\n",
       "      <td>Orlando City SC</td>\n",
       "      <td>1</td>\n",
       "      <td>3.200000</td>\n",
       "      <td>2.200000</td>\n",
       "    </tr>\n",
       "    <tr>\n",
       "      <th>2</th>\n",
       "      <td>Dax McCarty</td>\n",
       "      <td>Chicago Fire</td>\n",
       "      <td>1</td>\n",
       "      <td>1.200000</td>\n",
       "      <td>0.200000</td>\n",
       "    </tr>\n",
       "    <tr>\n",
       "      <th>3</th>\n",
       "      <td>Felipe Martins Campanholi</td>\n",
       "      <td>Vancouver Whitecaps FC</td>\n",
       "      <td>1</td>\n",
       "      <td>2.400000</td>\n",
       "      <td>1.400000</td>\n",
       "    </tr>\n",
       "    <tr>\n",
       "      <th>4</th>\n",
       "      <td>Bradley Wright-Phillips</td>\n",
       "      <td>New York Red Bulls</td>\n",
       "      <td>2</td>\n",
       "      <td>2.300000</td>\n",
       "      <td>0.300000</td>\n",
       "    </tr>\n",
       "    <tr>\n",
       "      <th>...</th>\n",
       "      <td>...</td>\n",
       "      <td>...</td>\n",
       "      <td>...</td>\n",
       "      <td>...</td>\n",
       "      <td>...</td>\n",
       "    </tr>\n",
       "    <tr>\n",
       "      <th>344</th>\n",
       "      <td>Diego Hernán Váleri</td>\n",
       "      <td>Portland Timbers</td>\n",
       "      <td>8</td>\n",
       "      <td>10.800000</td>\n",
       "      <td>2.800000</td>\n",
       "    </tr>\n",
       "    <tr>\n",
       "      <th>345</th>\n",
       "      <td>Osvaldo Nicolás Fabián Gaitán</td>\n",
       "      <td>Chicago Fire</td>\n",
       "      <td>4</td>\n",
       "      <td>3.183333</td>\n",
       "      <td>-0.816667</td>\n",
       "    </tr>\n",
       "    <tr>\n",
       "      <th>346</th>\n",
       "      <td>Giancarlo González Castro</td>\n",
       "      <td>Atlanta United FC</td>\n",
       "      <td>1</td>\n",
       "      <td>0.500000</td>\n",
       "      <td>-0.500000</td>\n",
       "    </tr>\n",
       "    <tr>\n",
       "      <th>347</th>\n",
       "      <td>Giancarlo González Castro</td>\n",
       "      <td>LA Galaxy</td>\n",
       "      <td>1</td>\n",
       "      <td>1.600000</td>\n",
       "      <td>0.600000</td>\n",
       "    </tr>\n",
       "    <tr>\n",
       "      <th>348</th>\n",
       "      <td>Josef Alexander Martínez</td>\n",
       "      <td>Atlanta United FC</td>\n",
       "      <td>28</td>\n",
       "      <td>30.850000</td>\n",
       "      <td>2.850000</td>\n",
       "    </tr>\n",
       "  </tbody>\n",
       "</table>\n",
       "<p>349 rows × 5 columns</p>\n",
       "</div>"
      ],
      "text/plain": [
       "                       player_name               team_name  simple_goal_value  \\\n",
       "0                   Kemar Lawrence      New York Red Bulls                  1   \n",
       "1                   Sacha Klještan         Orlando City SC                  1   \n",
       "2                      Dax McCarty            Chicago Fire                  1   \n",
       "3        Felipe Martins Campanholi  Vancouver Whitecaps FC                  1   \n",
       "4          Bradley Wright-Phillips      New York Red Bulls                  2   \n",
       "..                             ...                     ...                ...   \n",
       "344            Diego Hernán Váleri        Portland Timbers                  8   \n",
       "345  Osvaldo Nicolás Fabián Gaitán            Chicago Fire                  4   \n",
       "346      Giancarlo González Castro       Atlanta United FC                  1   \n",
       "347      Giancarlo González Castro               LA Galaxy                  1   \n",
       "348       Josef Alexander Martínez       Atlanta United FC                 28   \n",
       "\n",
       "     goal_value      gain  \n",
       "0      0.500000 -0.500000  \n",
       "1      3.200000  2.200000  \n",
       "2      1.200000  0.200000  \n",
       "3      2.400000  1.400000  \n",
       "4      2.300000  0.300000  \n",
       "..          ...       ...  \n",
       "344   10.800000  2.800000  \n",
       "345    3.183333 -0.816667  \n",
       "346    0.500000 -0.500000  \n",
       "347    1.600000  0.600000  \n",
       "348   30.850000  2.850000  \n",
       "\n",
       "[349 rows x 5 columns]"
      ]
     },
     "execution_count": 6,
     "metadata": {},
     "output_type": "execute_result"
    }
   ],
   "source": [
    "player_goals_outcomes_present"
   ]
  },
  {
   "cell_type": "markdown",
   "metadata": {},
   "source": [
    "### Displaying the Top 10 Scorer data \n",
    "This includes their goal values data as well as gains and gains per goal"
   ]
  },
  {
   "cell_type": "code",
   "execution_count": 7,
   "metadata": {
    "scrolled": true
   },
   "outputs": [
    {
     "data": {
      "text/html": [
       "<style  type=\"text/css\" >\n",
       "    #T_41201324_c952_11ea_91e5_4ccc6a4f4890 th {\n",
       "          font-size: 10px;\n",
       "          text-align: center;\n",
       "          font-weight: bold;\n",
       "          color: #6d6d6d;\n",
       "          background-color: #f7f7f9;\n",
       "    }    #T_41201324_c952_11ea_91e5_4ccc6a4f4890 td {\n",
       "          font-size: 10px;\n",
       "    }    #T_41201324_c952_11ea_91e5_4ccc6a4f4890row0_col4 {\n",
       "            color:  green;\n",
       "        }    #T_41201324_c952_11ea_91e5_4ccc6a4f4890row1_col4 {\n",
       "            color:  green;\n",
       "        }    #T_41201324_c952_11ea_91e5_4ccc6a4f4890row2_col4 {\n",
       "            color:  green;\n",
       "        }    #T_41201324_c952_11ea_91e5_4ccc6a4f4890row3_col4 {\n",
       "            color:  red;\n",
       "        }    #T_41201324_c952_11ea_91e5_4ccc6a4f4890row4_col4 {\n",
       "            color:  green;\n",
       "        }    #T_41201324_c952_11ea_91e5_4ccc6a4f4890row5_col4 {\n",
       "            color:  green;\n",
       "        }    #T_41201324_c952_11ea_91e5_4ccc6a4f4890row6_col4 {\n",
       "            color:  green;\n",
       "        }    #T_41201324_c952_11ea_91e5_4ccc6a4f4890row7_col4 {\n",
       "            color:  red;\n",
       "        }    #T_41201324_c952_11ea_91e5_4ccc6a4f4890row8_col4 {\n",
       "            color:  green;\n",
       "        }    #T_41201324_c952_11ea_91e5_4ccc6a4f4890row9_col4 {\n",
       "            color:  green;\n",
       "        }</style><table id=\"T_41201324_c952_11ea_91e5_4ccc6a4f4890\" ><thead>    <tr>        <th class=\"col_heading level0 col0\" >Name</th>        <th class=\"col_heading level0 col1\" >Team</th>        <th class=\"col_heading level0 col2\" >Goals</th>        <th class=\"col_heading level0 col3\" >Goal Value</th>        <th class=\"col_heading level0 col4\" >Total gain</th>    </tr></thead><tbody>\n",
       "                <tr>\n",
       "                                <td id=\"T_41201324_c952_11ea_91e5_4ccc6a4f4890row0_col0\" class=\"data row0 col0\" >Carlos Alberto Vela Garrido</td>\n",
       "                        <td id=\"T_41201324_c952_11ea_91e5_4ccc6a4f4890row0_col1\" class=\"data row0 col1\" >Los Angeles FC</td>\n",
       "                        <td id=\"T_41201324_c952_11ea_91e5_4ccc6a4f4890row0_col2\" class=\"data row0 col2\" >36</td>\n",
       "                        <td id=\"T_41201324_c952_11ea_91e5_4ccc6a4f4890row0_col3\" class=\"data row0 col3\" >36.75</td>\n",
       "                        <td id=\"T_41201324_c952_11ea_91e5_4ccc6a4f4890row0_col4\" class=\"data row0 col4\" >0.75</td>\n",
       "            </tr>\n",
       "            <tr>\n",
       "                                <td id=\"T_41201324_c952_11ea_91e5_4ccc6a4f4890row1_col0\" class=\"data row1 col0\" >Zlatan Ibrahimović</td>\n",
       "                        <td id=\"T_41201324_c952_11ea_91e5_4ccc6a4f4890row1_col1\" class=\"data row1 col1\" >LA Galaxy</td>\n",
       "                        <td id=\"T_41201324_c952_11ea_91e5_4ccc6a4f4890row1_col2\" class=\"data row1 col2\" >31</td>\n",
       "                        <td id=\"T_41201324_c952_11ea_91e5_4ccc6a4f4890row1_col3\" class=\"data row1 col3\" >34.4667</td>\n",
       "                        <td id=\"T_41201324_c952_11ea_91e5_4ccc6a4f4890row1_col4\" class=\"data row1 col4\" >3.46667</td>\n",
       "            </tr>\n",
       "            <tr>\n",
       "                                <td id=\"T_41201324_c952_11ea_91e5_4ccc6a4f4890row2_col0\" class=\"data row2 col0\" >Josef Alexander Martínez</td>\n",
       "                        <td id=\"T_41201324_c952_11ea_91e5_4ccc6a4f4890row2_col1\" class=\"data row2 col1\" >Atlanta United FC</td>\n",
       "                        <td id=\"T_41201324_c952_11ea_91e5_4ccc6a4f4890row2_col2\" class=\"data row2 col2\" >28</td>\n",
       "                        <td id=\"T_41201324_c952_11ea_91e5_4ccc6a4f4890row2_col3\" class=\"data row2 col3\" >30.85</td>\n",
       "                        <td id=\"T_41201324_c952_11ea_91e5_4ccc6a4f4890row2_col4\" class=\"data row2 col4\" >2.85</td>\n",
       "            </tr>\n",
       "            <tr>\n",
       "                                <td id=\"T_41201324_c952_11ea_91e5_4ccc6a4f4890row3_col0\" class=\"data row3 col0\" >Diego Martín Rossi Marachlian</td>\n",
       "                        <td id=\"T_41201324_c952_11ea_91e5_4ccc6a4f4890row3_col1\" class=\"data row3 col1\" >Los Angeles FC</td>\n",
       "                        <td id=\"T_41201324_c952_11ea_91e5_4ccc6a4f4890row3_col2\" class=\"data row3 col2\" >17</td>\n",
       "                        <td id=\"T_41201324_c952_11ea_91e5_4ccc6a4f4890row3_col3\" class=\"data row3 col3\" >14.24</td>\n",
       "                        <td id=\"T_41201324_c952_11ea_91e5_4ccc6a4f4890row3_col4\" class=\"data row3 col4\" >-2.76</td>\n",
       "            </tr>\n",
       "            <tr>\n",
       "                                <td id=\"T_41201324_c952_11ea_91e5_4ccc6a4f4890row4_col0\" class=\"data row4 col0\" >Heber Araujo dos Santos</td>\n",
       "                        <td id=\"T_41201324_c952_11ea_91e5_4ccc6a4f4890row4_col1\" class=\"data row4 col1\" >New York City FC</td>\n",
       "                        <td id=\"T_41201324_c952_11ea_91e5_4ccc6a4f4890row4_col2\" class=\"data row4 col2\" >15</td>\n",
       "                        <td id=\"T_41201324_c952_11ea_91e5_4ccc6a4f4890row4_col3\" class=\"data row4 col3\" >16.7667</td>\n",
       "                        <td id=\"T_41201324_c952_11ea_91e5_4ccc6a4f4890row4_col4\" class=\"data row4 col4\" >1.76667</td>\n",
       "            </tr>\n",
       "            <tr>\n",
       "                                <td id=\"T_41201324_c952_11ea_91e5_4ccc6a4f4890row5_col0\" class=\"data row5 col0\" >Kacper Przybyłko</td>\n",
       "                        <td id=\"T_41201324_c952_11ea_91e5_4ccc6a4f4890row5_col1\" class=\"data row5 col1\" >Philadelphia Union</td>\n",
       "                        <td id=\"T_41201324_c952_11ea_91e5_4ccc6a4f4890row5_col2\" class=\"data row5 col2\" >15</td>\n",
       "                        <td id=\"T_41201324_c952_11ea_91e5_4ccc6a4f4890row5_col3\" class=\"data row5 col3\" >20.55</td>\n",
       "                        <td id=\"T_41201324_c952_11ea_91e5_4ccc6a4f4890row5_col4\" class=\"data row5 col4\" >5.55</td>\n",
       "            </tr>\n",
       "            <tr>\n",
       "                                <td id=\"T_41201324_c952_11ea_91e5_4ccc6a4f4890row6_col0\" class=\"data row6 col0\" >Chris Wondolowski</td>\n",
       "                        <td id=\"T_41201324_c952_11ea_91e5_4ccc6a4f4890row6_col1\" class=\"data row6 col1\" >LA Galaxy</td>\n",
       "                        <td id=\"T_41201324_c952_11ea_91e5_4ccc6a4f4890row6_col2\" class=\"data row6 col2\" >15</td>\n",
       "                        <td id=\"T_41201324_c952_11ea_91e5_4ccc6a4f4890row6_col3\" class=\"data row6 col3\" >17.2167</td>\n",
       "                        <td id=\"T_41201324_c952_11ea_91e5_4ccc6a4f4890row6_col4\" class=\"data row6 col4\" >2.21667</td>\n",
       "            </tr>\n",
       "            <tr>\n",
       "                                <td id=\"T_41201324_c952_11ea_91e5_4ccc6a4f4890row7_col0\" class=\"data row7 col0\" >Raúl Mario Ruidíaz Misitich</td>\n",
       "                        <td id=\"T_41201324_c952_11ea_91e5_4ccc6a4f4890row7_col1\" class=\"data row7 col1\" >Seattle Sounders FC</td>\n",
       "                        <td id=\"T_41201324_c952_11ea_91e5_4ccc6a4f4890row7_col2\" class=\"data row7 col2\" >15</td>\n",
       "                        <td id=\"T_41201324_c952_11ea_91e5_4ccc6a4f4890row7_col3\" class=\"data row7 col3\" >14.5667</td>\n",
       "                        <td id=\"T_41201324_c952_11ea_91e5_4ccc6a4f4890row7_col4\" class=\"data row7 col4\" >-0.433333</td>\n",
       "            </tr>\n",
       "            <tr>\n",
       "                                <td id=\"T_41201324_c952_11ea_91e5_4ccc6a4f4890row8_col0\" class=\"data row8 col0\" >Kaiansu Kei Kamara</td>\n",
       "                        <td id=\"T_41201324_c952_11ea_91e5_4ccc6a4f4890row8_col1\" class=\"data row8 col1\" >Colorado Rapids</td>\n",
       "                        <td id=\"T_41201324_c952_11ea_91e5_4ccc6a4f4890row8_col2\" class=\"data row8 col2\" >14</td>\n",
       "                        <td id=\"T_41201324_c952_11ea_91e5_4ccc6a4f4890row8_col3\" class=\"data row8 col3\" >16.6667</td>\n",
       "                        <td id=\"T_41201324_c952_11ea_91e5_4ccc6a4f4890row8_col4\" class=\"data row8 col4\" >2.66667</td>\n",
       "            </tr>\n",
       "            <tr>\n",
       "                                <td id=\"T_41201324_c952_11ea_91e5_4ccc6a4f4890row9_col0\" class=\"data row9 col0\" >Alejandro Pozuelo Melero</td>\n",
       "                        <td id=\"T_41201324_c952_11ea_91e5_4ccc6a4f4890row9_col1\" class=\"data row9 col1\" >Toronto FC</td>\n",
       "                        <td id=\"T_41201324_c952_11ea_91e5_4ccc6a4f4890row9_col2\" class=\"data row9 col2\" >14</td>\n",
       "                        <td id=\"T_41201324_c952_11ea_91e5_4ccc6a4f4890row9_col3\" class=\"data row9 col3\" >19.1333</td>\n",
       "                        <td id=\"T_41201324_c952_11ea_91e5_4ccc6a4f4890row9_col4\" class=\"data row9 col4\" >5.13333</td>\n",
       "            </tr>\n",
       "    </tbody></table>"
      ],
      "text/plain": [
       "<pandas.io.formats.style.Styler at 0x1b9e4010708>"
      ]
     },
     "execution_count": 7,
     "metadata": {},
     "output_type": "execute_result"
    }
   ],
   "source": [
    "player_goals_outcomes_present_clean = player_goals_outcomes_present.rename(columns = {'player_name' : 'Name', 'team_name' : 'Team', 'team_final_table_position' : 'Final Table Position', 'simple_goal_value' : 'Goals', 'goal_value':'Goal Value', 'gain':'Total gain'}) \n",
    "\n",
    "sorted_by_simple = player_goals_outcomes_present_clean.sort_values(by=['Goals'], ascending=False)\n",
    "\n",
    "\n",
    "sorted_by_simple.head(10).style.applymap(color_lt0_red_gt0_green, subset=['Total gain']).set_table_styles(styles).hide_index()"
   ]
  },
  {
   "cell_type": "markdown",
   "metadata": {},
   "source": [
    "### Displaying gains focussed charts\n",
    "- Gains Top 10\n",
    "- Gains per goal (for any player with at least 10 scored goals) Top 10"
   ]
  },
  {
   "cell_type": "code",
   "execution_count": 8,
   "metadata": {},
   "outputs": [],
   "source": [
    "player_goals_outcomes_present_clean['Gain per goal'] = player_goals_outcomes_present_clean['Total gain']/player_goals_outcomes_present_clean['Goals']\n",
    "sorted_by_gain = player_goals_outcomes_present_clean.sort_values(by=['Total gain'], ascending=False)\n",
    "sorted_by_gain_per_goal = player_goals_outcomes_present_clean.sort_values(by=['Gain per goal'], ascending=False)"
   ]
  },
  {
   "cell_type": "code",
   "execution_count": 9,
   "metadata": {},
   "outputs": [
    {
     "data": {
      "text/html": [
       "<style  type=\"text/css\" >\n",
       "    #T_43321efe_c952_11ea_b187_4ccc6a4f4890 th {\n",
       "          font-size: 10px;\n",
       "          text-align: center;\n",
       "          font-weight: bold;\n",
       "          color: #6d6d6d;\n",
       "          background-color: #f7f7f9;\n",
       "    }    #T_43321efe_c952_11ea_b187_4ccc6a4f4890 td {\n",
       "          font-size: 10px;\n",
       "    }    #T_43321efe_c952_11ea_b187_4ccc6a4f4890row0_col4 {\n",
       "            background-color:  #008000;\n",
       "            color:  #f1f1f1;\n",
       "        }    #T_43321efe_c952_11ea_b187_4ccc6a4f4890row1_col4 {\n",
       "            background-color:  #3ca13c;\n",
       "            color:  #000000;\n",
       "        }    #T_43321efe_c952_11ea_b187_4ccc6a4f4890row2_col4 {\n",
       "            background-color:  #3ca13c;\n",
       "            color:  #000000;\n",
       "        }    #T_43321efe_c952_11ea_b187_4ccc6a4f4890row3_col4 {\n",
       "            background-color:  #74c074;\n",
       "            color:  #000000;\n",
       "        }    #T_43321efe_c952_11ea_b187_4ccc6a4f4890row4_col4 {\n",
       "            background-color:  #7ac37a;\n",
       "            color:  #000000;\n",
       "        }    #T_43321efe_c952_11ea_b187_4ccc6a4f4890row5_col4 {\n",
       "            background-color:  #8ecf8e;\n",
       "            color:  #000000;\n",
       "        }    #T_43321efe_c952_11ea_b187_4ccc6a4f4890row6_col4 {\n",
       "            background-color:  #98d498;\n",
       "            color:  #000000;\n",
       "        }    #T_43321efe_c952_11ea_b187_4ccc6a4f4890row7_col4 {\n",
       "            background-color:  #9ed89e;\n",
       "            color:  #000000;\n",
       "        }    #T_43321efe_c952_11ea_b187_4ccc6a4f4890row8_col4 {\n",
       "            background-color:  #d2f4d2;\n",
       "            color:  #000000;\n",
       "        }    #T_43321efe_c952_11ea_b187_4ccc6a4f4890row9_col4 {\n",
       "            background-color:  #e5ffe5;\n",
       "            color:  #000000;\n",
       "        }</style><table id=\"T_43321efe_c952_11ea_b187_4ccc6a4f4890\" ><thead>    <tr>        <th class=\"col_heading level0 col0\" >Name</th>        <th class=\"col_heading level0 col1\" >Team</th>        <th class=\"col_heading level0 col2\" >Goals</th>        <th class=\"col_heading level0 col3\" >Goal Value</th>        <th class=\"col_heading level0 col4\" >Total gain</th>        <th class=\"col_heading level0 col5\" >Gain per goal</th>    </tr></thead><tbody>\n",
       "                <tr>\n",
       "                                <td id=\"T_43321efe_c952_11ea_b187_4ccc6a4f4890row0_col0\" class=\"data row0 col0\" >Valentín Mariano José Castellanos Giménez</td>\n",
       "                        <td id=\"T_43321efe_c952_11ea_b187_4ccc6a4f4890row0_col1\" class=\"data row0 col1\" >New York City FC</td>\n",
       "                        <td id=\"T_43321efe_c952_11ea_b187_4ccc6a4f4890row0_col2\" class=\"data row0 col2\" >11</td>\n",
       "                        <td id=\"T_43321efe_c952_11ea_b187_4ccc6a4f4890row0_col3\" class=\"data row0 col3\" >17.7</td>\n",
       "                        <td id=\"T_43321efe_c952_11ea_b187_4ccc6a4f4890row0_col4\" class=\"data row0 col4\" >6.7</td>\n",
       "                        <td id=\"T_43321efe_c952_11ea_b187_4ccc6a4f4890row0_col5\" class=\"data row0 col5\" >0.609091</td>\n",
       "            </tr>\n",
       "            <tr>\n",
       "                                <td id=\"T_43321efe_c952_11ea_b187_4ccc6a4f4890row1_col0\" class=\"data row1 col0\" >Luís Carlos Almeida da Cunha</td>\n",
       "                        <td id=\"T_43321efe_c952_11ea_b187_4ccc6a4f4890row1_col1\" class=\"data row1 col1\" >Orlando City SC</td>\n",
       "                        <td id=\"T_43321efe_c952_11ea_b187_4ccc6a4f4890row1_col2\" class=\"data row1 col2\" >12</td>\n",
       "                        <td id=\"T_43321efe_c952_11ea_b187_4ccc6a4f4890row1_col3\" class=\"data row1 col3\" >18.1</td>\n",
       "                        <td id=\"T_43321efe_c952_11ea_b187_4ccc6a4f4890row1_col4\" class=\"data row1 col4\" >6.1</td>\n",
       "                        <td id=\"T_43321efe_c952_11ea_b187_4ccc6a4f4890row1_col5\" class=\"data row1 col5\" >0.508333</td>\n",
       "            </tr>\n",
       "            <tr>\n",
       "                                <td id=\"T_43321efe_c952_11ea_b187_4ccc6a4f4890row2_col0\" class=\"data row2 col0\" >Fredy Henkyer Montero Muñoz</td>\n",
       "                        <td id=\"T_43321efe_c952_11ea_b187_4ccc6a4f4890row2_col1\" class=\"data row2 col1\" >Vancouver Whitecaps FC</td>\n",
       "                        <td id=\"T_43321efe_c952_11ea_b187_4ccc6a4f4890row2_col2\" class=\"data row2 col2\" >8</td>\n",
       "                        <td id=\"T_43321efe_c952_11ea_b187_4ccc6a4f4890row2_col3\" class=\"data row2 col3\" >14.1</td>\n",
       "                        <td id=\"T_43321efe_c952_11ea_b187_4ccc6a4f4890row2_col4\" class=\"data row2 col4\" >6.1</td>\n",
       "                        <td id=\"T_43321efe_c952_11ea_b187_4ccc6a4f4890row2_col5\" class=\"data row2 col5\" >0.7625</td>\n",
       "            </tr>\n",
       "            <tr>\n",
       "                                <td id=\"T_43321efe_c952_11ea_b187_4ccc6a4f4890row3_col0\" class=\"data row3 col0\" >Kacper Przybyłko</td>\n",
       "                        <td id=\"T_43321efe_c952_11ea_b187_4ccc6a4f4890row3_col1\" class=\"data row3 col1\" >Philadelphia Union</td>\n",
       "                        <td id=\"T_43321efe_c952_11ea_b187_4ccc6a4f4890row3_col2\" class=\"data row3 col2\" >15</td>\n",
       "                        <td id=\"T_43321efe_c952_11ea_b187_4ccc6a4f4890row3_col3\" class=\"data row3 col3\" >20.55</td>\n",
       "                        <td id=\"T_43321efe_c952_11ea_b187_4ccc6a4f4890row3_col4\" class=\"data row3 col4\" >5.55</td>\n",
       "                        <td id=\"T_43321efe_c952_11ea_b187_4ccc6a4f4890row3_col5\" class=\"data row3 col5\" >0.37</td>\n",
       "            </tr>\n",
       "            <tr>\n",
       "                                <td id=\"T_43321efe_c952_11ea_b187_4ccc6a4f4890row4_col0\" class=\"data row4 col0\" >Jordan Morris</td>\n",
       "                        <td id=\"T_43321efe_c952_11ea_b187_4ccc6a4f4890row4_col1\" class=\"data row4 col1\" >Seattle Sounders FC</td>\n",
       "                        <td id=\"T_43321efe_c952_11ea_b187_4ccc6a4f4890row4_col2\" class=\"data row4 col2\" >13</td>\n",
       "                        <td id=\"T_43321efe_c952_11ea_b187_4ccc6a4f4890row4_col3\" class=\"data row4 col3\" >18.5</td>\n",
       "                        <td id=\"T_43321efe_c952_11ea_b187_4ccc6a4f4890row4_col4\" class=\"data row4 col4\" >5.5</td>\n",
       "                        <td id=\"T_43321efe_c952_11ea_b187_4ccc6a4f4890row4_col5\" class=\"data row4 col5\" >0.423077</td>\n",
       "            </tr>\n",
       "            <tr>\n",
       "                                <td id=\"T_43321efe_c952_11ea_b187_4ccc6a4f4890row5_col0\" class=\"data row5 col0\" >Carlos Darwin Quintero Villalba</td>\n",
       "                        <td id=\"T_43321efe_c952_11ea_b187_4ccc6a4f4890row5_col1\" class=\"data row5 col1\" >Minnesota United FC</td>\n",
       "                        <td id=\"T_43321efe_c952_11ea_b187_4ccc6a4f4890row5_col2\" class=\"data row5 col2\" >10</td>\n",
       "                        <td id=\"T_43321efe_c952_11ea_b187_4ccc6a4f4890row5_col3\" class=\"data row5 col3\" >15.3</td>\n",
       "                        <td id=\"T_43321efe_c952_11ea_b187_4ccc6a4f4890row5_col4\" class=\"data row5 col4\" >5.3</td>\n",
       "                        <td id=\"T_43321efe_c952_11ea_b187_4ccc6a4f4890row5_col5\" class=\"data row5 col5\" >0.53</td>\n",
       "            </tr>\n",
       "            <tr>\n",
       "                                <td id=\"T_43321efe_c952_11ea_b187_4ccc6a4f4890row6_col0\" class=\"data row6 col0\" >José Yordy Reyna Serna</td>\n",
       "                        <td id=\"T_43321efe_c952_11ea_b187_4ccc6a4f4890row6_col1\" class=\"data row6 col1\" >Vancouver Whitecaps FC</td>\n",
       "                        <td id=\"T_43321efe_c952_11ea_b187_4ccc6a4f4890row6_col2\" class=\"data row6 col2\" >7</td>\n",
       "                        <td id=\"T_43321efe_c952_11ea_b187_4ccc6a4f4890row6_col3\" class=\"data row6 col3\" >12.2</td>\n",
       "                        <td id=\"T_43321efe_c952_11ea_b187_4ccc6a4f4890row6_col4\" class=\"data row6 col4\" >5.2</td>\n",
       "                        <td id=\"T_43321efe_c952_11ea_b187_4ccc6a4f4890row6_col5\" class=\"data row6 col5\" >0.742857</td>\n",
       "            </tr>\n",
       "            <tr>\n",
       "                                <td id=\"T_43321efe_c952_11ea_b187_4ccc6a4f4890row7_col0\" class=\"data row7 col0\" >Alejandro Pozuelo Melero</td>\n",
       "                        <td id=\"T_43321efe_c952_11ea_b187_4ccc6a4f4890row7_col1\" class=\"data row7 col1\" >Toronto FC</td>\n",
       "                        <td id=\"T_43321efe_c952_11ea_b187_4ccc6a4f4890row7_col2\" class=\"data row7 col2\" >14</td>\n",
       "                        <td id=\"T_43321efe_c952_11ea_b187_4ccc6a4f4890row7_col3\" class=\"data row7 col3\" >19.1333</td>\n",
       "                        <td id=\"T_43321efe_c952_11ea_b187_4ccc6a4f4890row7_col4\" class=\"data row7 col4\" >5.13333</td>\n",
       "                        <td id=\"T_43321efe_c952_11ea_b187_4ccc6a4f4890row7_col5\" class=\"data row7 col5\" >0.366667</td>\n",
       "            </tr>\n",
       "            <tr>\n",
       "                                <td id=\"T_43321efe_c952_11ea_b187_4ccc6a4f4890row8_col0\" class=\"data row8 col0\" >Wayne Rooney</td>\n",
       "                        <td id=\"T_43321efe_c952_11ea_b187_4ccc6a4f4890row8_col1\" class=\"data row8 col1\" >DC United</td>\n",
       "                        <td id=\"T_43321efe_c952_11ea_b187_4ccc6a4f4890row8_col2\" class=\"data row8 col2\" >11</td>\n",
       "                        <td id=\"T_43321efe_c952_11ea_b187_4ccc6a4f4890row8_col3\" class=\"data row8 col3\" >15.6333</td>\n",
       "                        <td id=\"T_43321efe_c952_11ea_b187_4ccc6a4f4890row8_col4\" class=\"data row8 col4\" >4.63333</td>\n",
       "                        <td id=\"T_43321efe_c952_11ea_b187_4ccc6a4f4890row8_col5\" class=\"data row8 col5\" >0.421212</td>\n",
       "            </tr>\n",
       "            <tr>\n",
       "                                <td id=\"T_43321efe_c952_11ea_b187_4ccc6a4f4890row9_col0\" class=\"data row9 col0\" >Brian Leonel Fernández</td>\n",
       "                        <td id=\"T_43321efe_c952_11ea_b187_4ccc6a4f4890row9_col1\" class=\"data row9 col1\" >Portland Timbers</td>\n",
       "                        <td id=\"T_43321efe_c952_11ea_b187_4ccc6a4f4890row9_col2\" class=\"data row9 col2\" >11</td>\n",
       "                        <td id=\"T_43321efe_c952_11ea_b187_4ccc6a4f4890row9_col3\" class=\"data row9 col3\" >15.4333</td>\n",
       "                        <td id=\"T_43321efe_c952_11ea_b187_4ccc6a4f4890row9_col4\" class=\"data row9 col4\" >4.43333</td>\n",
       "                        <td id=\"T_43321efe_c952_11ea_b187_4ccc6a4f4890row9_col5\" class=\"data row9 col5\" >0.40303</td>\n",
       "            </tr>\n",
       "    </tbody></table>"
      ],
      "text/plain": [
       "<pandas.io.formats.style.Styler at 0x1b9e3fe2a48>"
      ]
     },
     "execution_count": 9,
     "metadata": {},
     "output_type": "execute_result"
    }
   ],
   "source": [
    "sorted_by_gain.head(10).style.set_table_styles(styles).background_gradient(cmap=cm_green, subset=['Total gain']).hide_index()"
   ]
  },
  {
   "cell_type": "code",
   "execution_count": 10,
   "metadata": {},
   "outputs": [
    {
     "data": {
      "text/plain": [
       "<matplotlib.axes._subplots.AxesSubplot at 0x1b9e4169e08>"
      ]
     },
     "execution_count": 10,
     "metadata": {},
     "output_type": "execute_result"
    },
    {
     "data": {
      "image/png": "[encoded data removed]",
      "text/plain": [
       "<Figure size 432x288 with 1 Axes>"
      ]
     },
     "metadata": {
      "needs_background": "light"
     },
     "output_type": "display_data"
    }
   ],
   "source": [
    "gain_top10 = sorted_by_gain.head(10)\n",
    "ax = plt.gca()\n",
    "gain_top10.plot(kind='barh', x='Name', y='Total gain' ,ax=ax)"
   ]
  },
  {
   "cell_type": "markdown",
   "metadata": {},
   "source": [
    "### Bottom Dwellers\n",
    "And just because we can, let's have a quick look at the bottom of the gain chart"
   ]
  },
  {
   "cell_type": "code",
   "execution_count": 11,
   "metadata": {},
   "outputs": [
    {
     "data": {
      "text/plain": [
       "<matplotlib.axes._subplots.AxesSubplot at 0x1b9e44db308>"
      ]
     },
     "execution_count": 11,
     "metadata": {},
     "output_type": "execute_result"
    },
    {
     "data": {
      "image/png": "[encoded data removed]",
      "text/plain": [
       "<Figure size 432x288 with 1 Axes>"
      ]
     },
     "metadata": {
      "needs_background": "light"
     },
     "output_type": "display_data"
    }
   ],
   "source": [
    "gain_bottom10 = sorted_by_gain.tail(10)\n",
    "ax = plt.gca()\n",
    "gain_bottom10.plot(kind='barh', x='Name', y='Total gain' ,ax=ax)"
   ]
  },
  {
   "cell_type": "code",
   "execution_count": 137,
   "metadata": {},
   "outputs": [
    {
     "data": {
      "text/plain": [
       "<matplotlib.axes._subplots.AxesSubplot at 0x2167d9e21c8>"
      ]
     },
     "execution_count": 137,
     "metadata": {},
     "output_type": "execute_result"
    },
    {
     "data": {
      "image/png": "[encoded data removed]",
      "text/plain": [
       "<Figure size 432x288 with 1 Axes>"
      ]
     },
     "metadata": {
      "needs_background": "light"
     },
     "output_type": "display_data"
    }
   ],
   "source": [
    "ax = plt.gca()\n",
    "gain_top10.plot(kind='barh',x='Name',y=['Total gain', 'Goals' ] ,ax=ax, stacked=True)"
   ]
  },
  {
   "cell_type": "code",
   "execution_count": 138,
   "metadata": {},
   "outputs": [
    {
     "data": {
      "text/html": [
       "<style  type=\"text/css\" >\n",
       "    #T_cf901528_92a6_11ea_ac36_4ccc6a4f4890 th {\n",
       "          font-size: 10px;\n",
       "          text-align: center;\n",
       "          font-weight: bold;\n",
       "          color: #6d6d6d;\n",
       "          background-color: #f7f7f9;\n",
       "    }    #T_cf901528_92a6_11ea_ac36_4ccc6a4f4890 td {\n",
       "          font-size: 10px;\n",
       "    }    #T_cf901528_92a6_11ea_ac36_4ccc6a4f4890row0_col5 {\n",
       "            background-color:  #008000;\n",
       "            color:  #f1f1f1;\n",
       "        }    #T_cf901528_92a6_11ea_ac36_4ccc6a4f4890row1_col5 {\n",
       "            background-color:  #4ba94b;\n",
       "            color:  #000000;\n",
       "        }    #T_cf901528_92a6_11ea_ac36_4ccc6a4f4890row2_col5 {\n",
       "            background-color:  #8bcd8b;\n",
       "            color:  #000000;\n",
       "        }    #T_cf901528_92a6_11ea_ac36_4ccc6a4f4890row3_col5 {\n",
       "            background-color:  #8bcd8b;\n",
       "            color:  #000000;\n",
       "        }    #T_cf901528_92a6_11ea_ac36_4ccc6a4f4890row4_col5 {\n",
       "            background-color:  #99d599;\n",
       "            color:  #000000;\n",
       "        }    #T_cf901528_92a6_11ea_ac36_4ccc6a4f4890row5_col5 {\n",
       "            background-color:  #b2e3b2;\n",
       "            color:  #000000;\n",
       "        }    #T_cf901528_92a6_11ea_ac36_4ccc6a4f4890row6_col5 {\n",
       "            background-color:  #b4e4b4;\n",
       "            color:  #000000;\n",
       "        }    #T_cf901528_92a6_11ea_ac36_4ccc6a4f4890row7_col5 {\n",
       "            background-color:  #b7e5b7;\n",
       "            color:  #000000;\n",
       "        }    #T_cf901528_92a6_11ea_ac36_4ccc6a4f4890row8_col5 {\n",
       "            background-color:  #d7f7d7;\n",
       "            color:  #000000;\n",
       "        }    #T_cf901528_92a6_11ea_ac36_4ccc6a4f4890row9_col5 {\n",
       "            background-color:  #e5ffe5;\n",
       "            color:  #000000;\n",
       "        }</style><table id=\"T_cf901528_92a6_11ea_ac36_4ccc6a4f4890\" ><thead>    <tr>        <th class=\"col_heading level0 col0\" >Name</th>        <th class=\"col_heading level0 col1\" >Team</th>        <th class=\"col_heading level0 col2\" >Goals</th>        <th class=\"col_heading level0 col3\" >Goal Value</th>        <th class=\"col_heading level0 col4\" >Total gain</th>        <th class=\"col_heading level0 col5\" >Gain per goal</th>    </tr></thead><tbody>\n",
       "                <tr>\n",
       "                                <td id=\"T_cf901528_92a6_11ea_ac36_4ccc6a4f4890row0_col0\" class=\"data row0 col0\" >Valentín Mariano José Castellanos Giménez</td>\n",
       "                        <td id=\"T_cf901528_92a6_11ea_ac36_4ccc6a4f4890row0_col1\" class=\"data row0 col1\" >New York City FC</td>\n",
       "                        <td id=\"T_cf901528_92a6_11ea_ac36_4ccc6a4f4890row0_col2\" class=\"data row0 col2\" >11</td>\n",
       "                        <td id=\"T_cf901528_92a6_11ea_ac36_4ccc6a4f4890row0_col3\" class=\"data row0 col3\" >17.7</td>\n",
       "                        <td id=\"T_cf901528_92a6_11ea_ac36_4ccc6a4f4890row0_col4\" class=\"data row0 col4\" >6.7</td>\n",
       "                        <td id=\"T_cf901528_92a6_11ea_ac36_4ccc6a4f4890row0_col5\" class=\"data row0 col5\" >0.609091</td>\n",
       "            </tr>\n",
       "            <tr>\n",
       "                                <td id=\"T_cf901528_92a6_11ea_ac36_4ccc6a4f4890row1_col0\" class=\"data row1 col0\" >Luís Carlos Almeida da Cunha</td>\n",
       "                        <td id=\"T_cf901528_92a6_11ea_ac36_4ccc6a4f4890row1_col1\" class=\"data row1 col1\" >Orlando City SC</td>\n",
       "                        <td id=\"T_cf901528_92a6_11ea_ac36_4ccc6a4f4890row1_col2\" class=\"data row1 col2\" >12</td>\n",
       "                        <td id=\"T_cf901528_92a6_11ea_ac36_4ccc6a4f4890row1_col3\" class=\"data row1 col3\" >18.1</td>\n",
       "                        <td id=\"T_cf901528_92a6_11ea_ac36_4ccc6a4f4890row1_col4\" class=\"data row1 col4\" >6.1</td>\n",
       "                        <td id=\"T_cf901528_92a6_11ea_ac36_4ccc6a4f4890row1_col5\" class=\"data row1 col5\" >0.508333</td>\n",
       "            </tr>\n",
       "            <tr>\n",
       "                                <td id=\"T_cf901528_92a6_11ea_ac36_4ccc6a4f4890row2_col0\" class=\"data row2 col0\" >Jordan Morris</td>\n",
       "                        <td id=\"T_cf901528_92a6_11ea_ac36_4ccc6a4f4890row2_col1\" class=\"data row2 col1\" >Seattle Sounders FC</td>\n",
       "                        <td id=\"T_cf901528_92a6_11ea_ac36_4ccc6a4f4890row2_col2\" class=\"data row2 col2\" >13</td>\n",
       "                        <td id=\"T_cf901528_92a6_11ea_ac36_4ccc6a4f4890row2_col3\" class=\"data row2 col3\" >18.5</td>\n",
       "                        <td id=\"T_cf901528_92a6_11ea_ac36_4ccc6a4f4890row2_col4\" class=\"data row2 col4\" >5.5</td>\n",
       "                        <td id=\"T_cf901528_92a6_11ea_ac36_4ccc6a4f4890row2_col5\" class=\"data row2 col5\" >0.423077</td>\n",
       "            </tr>\n",
       "            <tr>\n",
       "                                <td id=\"T_cf901528_92a6_11ea_ac36_4ccc6a4f4890row3_col0\" class=\"data row3 col0\" >Wayne Rooney</td>\n",
       "                        <td id=\"T_cf901528_92a6_11ea_ac36_4ccc6a4f4890row3_col1\" class=\"data row3 col1\" >DC United</td>\n",
       "                        <td id=\"T_cf901528_92a6_11ea_ac36_4ccc6a4f4890row3_col2\" class=\"data row3 col2\" >11</td>\n",
       "                        <td id=\"T_cf901528_92a6_11ea_ac36_4ccc6a4f4890row3_col3\" class=\"data row3 col3\" >15.6333</td>\n",
       "                        <td id=\"T_cf901528_92a6_11ea_ac36_4ccc6a4f4890row3_col4\" class=\"data row3 col4\" >4.63333</td>\n",
       "                        <td id=\"T_cf901528_92a6_11ea_ac36_4ccc6a4f4890row3_col5\" class=\"data row3 col5\" >0.421212</td>\n",
       "            </tr>\n",
       "            <tr>\n",
       "                                <td id=\"T_cf901528_92a6_11ea_ac36_4ccc6a4f4890row4_col0\" class=\"data row4 col0\" >Brian Leonel Fernández</td>\n",
       "                        <td id=\"T_cf901528_92a6_11ea_ac36_4ccc6a4f4890row4_col1\" class=\"data row4 col1\" >Portland Timbers</td>\n",
       "                        <td id=\"T_cf901528_92a6_11ea_ac36_4ccc6a4f4890row4_col2\" class=\"data row4 col2\" >11</td>\n",
       "                        <td id=\"T_cf901528_92a6_11ea_ac36_4ccc6a4f4890row4_col3\" class=\"data row4 col3\" >15.4333</td>\n",
       "                        <td id=\"T_cf901528_92a6_11ea_ac36_4ccc6a4f4890row4_col4\" class=\"data row4 col4\" >4.43333</td>\n",
       "                        <td id=\"T_cf901528_92a6_11ea_ac36_4ccc6a4f4890row4_col5\" class=\"data row4 col5\" >0.40303</td>\n",
       "            </tr>\n",
       "            <tr>\n",
       "                                <td id=\"T_cf901528_92a6_11ea_ac36_4ccc6a4f4890row5_col0\" class=\"data row5 col0\" >Kacper Przybyłko</td>\n",
       "                        <td id=\"T_cf901528_92a6_11ea_ac36_4ccc6a4f4890row5_col1\" class=\"data row5 col1\" >Philadelphia Union</td>\n",
       "                        <td id=\"T_cf901528_92a6_11ea_ac36_4ccc6a4f4890row5_col2\" class=\"data row5 col2\" >15</td>\n",
       "                        <td id=\"T_cf901528_92a6_11ea_ac36_4ccc6a4f4890row5_col3\" class=\"data row5 col3\" >20.55</td>\n",
       "                        <td id=\"T_cf901528_92a6_11ea_ac36_4ccc6a4f4890row5_col4\" class=\"data row5 col4\" >5.55</td>\n",
       "                        <td id=\"T_cf901528_92a6_11ea_ac36_4ccc6a4f4890row5_col5\" class=\"data row5 col5\" >0.37</td>\n",
       "            </tr>\n",
       "            <tr>\n",
       "                                <td id=\"T_cf901528_92a6_11ea_ac36_4ccc6a4f4890row6_col0\" class=\"data row6 col0\" >Alejandro Pozuelo Melero</td>\n",
       "                        <td id=\"T_cf901528_92a6_11ea_ac36_4ccc6a4f4890row6_col1\" class=\"data row6 col1\" >Toronto FC</td>\n",
       "                        <td id=\"T_cf901528_92a6_11ea_ac36_4ccc6a4f4890row6_col2\" class=\"data row6 col2\" >14</td>\n",
       "                        <td id=\"T_cf901528_92a6_11ea_ac36_4ccc6a4f4890row6_col3\" class=\"data row6 col3\" >19.1333</td>\n",
       "                        <td id=\"T_cf901528_92a6_11ea_ac36_4ccc6a4f4890row6_col4\" class=\"data row6 col4\" >5.13333</td>\n",
       "                        <td id=\"T_cf901528_92a6_11ea_ac36_4ccc6a4f4890row6_col5\" class=\"data row6 col5\" >0.366667</td>\n",
       "            </tr>\n",
       "            <tr>\n",
       "                                <td id=\"T_cf901528_92a6_11ea_ac36_4ccc6a4f4890row7_col0\" class=\"data row7 col0\" >Pedro Miguel Martins Santos</td>\n",
       "                        <td id=\"T_cf901528_92a6_11ea_ac36_4ccc6a4f4890row7_col1\" class=\"data row7 col1\" >Columbus Crew</td>\n",
       "                        <td id=\"T_cf901528_92a6_11ea_ac36_4ccc6a4f4890row7_col2\" class=\"data row7 col2\" >11</td>\n",
       "                        <td id=\"T_cf901528_92a6_11ea_ac36_4ccc6a4f4890row7_col3\" class=\"data row7 col3\" >15</td>\n",
       "                        <td id=\"T_cf901528_92a6_11ea_ac36_4ccc6a4f4890row7_col4\" class=\"data row7 col4\" >4</td>\n",
       "                        <td id=\"T_cf901528_92a6_11ea_ac36_4ccc6a4f4890row7_col5\" class=\"data row7 col5\" >0.363636</td>\n",
       "            </tr>\n",
       "            <tr>\n",
       "                                <td id=\"T_cf901528_92a6_11ea_ac36_4ccc6a4f4890row8_col0\" class=\"data row8 col0\" >Alexandru Ionuț Mitriță</td>\n",
       "                        <td id=\"T_cf901528_92a6_11ea_ac36_4ccc6a4f4890row8_col1\" class=\"data row8 col1\" >New York City FC</td>\n",
       "                        <td id=\"T_cf901528_92a6_11ea_ac36_4ccc6a4f4890row8_col2\" class=\"data row8 col2\" >12</td>\n",
       "                        <td id=\"T_cf901528_92a6_11ea_ac36_4ccc6a4f4890row8_col3\" class=\"data row8 col3\" >15.8333</td>\n",
       "                        <td id=\"T_cf901528_92a6_11ea_ac36_4ccc6a4f4890row8_col4\" class=\"data row8 col4\" >3.83333</td>\n",
       "                        <td id=\"T_cf901528_92a6_11ea_ac36_4ccc6a4f4890row8_col5\" class=\"data row8 col5\" >0.319444</td>\n",
       "            </tr>\n",
       "            <tr>\n",
       "                                <td id=\"T_cf901528_92a6_11ea_ac36_4ccc6a4f4890row9_col0\" class=\"data row9 col0\" >Mauro Andrés Manotas Páez</td>\n",
       "                        <td id=\"T_cf901528_92a6_11ea_ac36_4ccc6a4f4890row9_col1\" class=\"data row9 col1\" >Houston Dynamo</td>\n",
       "                        <td id=\"T_cf901528_92a6_11ea_ac36_4ccc6a4f4890row9_col2\" class=\"data row9 col2\" >13</td>\n",
       "                        <td id=\"T_cf901528_92a6_11ea_ac36_4ccc6a4f4890row9_col3\" class=\"data row9 col3\" >16.9</td>\n",
       "                        <td id=\"T_cf901528_92a6_11ea_ac36_4ccc6a4f4890row9_col4\" class=\"data row9 col4\" >3.9</td>\n",
       "                        <td id=\"T_cf901528_92a6_11ea_ac36_4ccc6a4f4890row9_col5\" class=\"data row9 col5\" >0.3</td>\n",
       "            </tr>\n",
       "    </tbody></table>"
      ],
      "text/plain": [
       "<pandas.io.formats.style.Styler at 0x2167eb67e88>"
      ]
     },
     "execution_count": 138,
     "metadata": {},
     "output_type": "execute_result"
    }
   ],
   "source": [
    "gain_per_goal_top10 = sorted_by_gain_per_goal.query('Goals>10').head(10)\n",
    "gain_per_goal_top10.style.set_table_styles(styles).background_gradient(cmap=cm_green, subset=['Gain per goal']).hide_index()"
   ]
  },
  {
   "cell_type": "code",
   "execution_count": 139,
   "metadata": {},
   "outputs": [
    {
     "data": {
      "text/plain": [
       "<matplotlib.axes._subplots.AxesSubplot at 0x2167ec2cc48>"
      ]
     },
     "execution_count": 139,
     "metadata": {},
     "output_type": "execute_result"
    },
    {
     "data": {
      "image/png": "[encoded data removed]",
      "text/plain": [
       "<Figure size 432x288 with 1 Axes>"
      ]
     },
     "metadata": {
      "needs_background": "light"
     },
     "output_type": "display_data"
    }
   ],
   "source": [
    "ax = plt.gca()\n",
    "gain_per_goal_top10.plot(kind='barh',x='Name',y='Gain per goal' ,ax=ax, stacked=True)"
   ]
  }
 ],
 "metadata": {
  "kernelspec": {
   "display_name": "Python 3",
   "language": "python",
   "name": "python3"
  },
  "language_info": {
   "codemirror_mode": {
    "name": "ipython",
    "version": 3
   },
   "file_extension": ".py",
   "mimetype": "text/x-python",
   "name": "python",
   "nbconvert_exporter": "python",
   "pygments_lexer": "ipython3",
   "version": "3.7.4"
  }
 },
 "nbformat": 4,
 "nbformat_minor": 2
}
